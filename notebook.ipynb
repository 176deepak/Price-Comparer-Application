{
 "cells": [
  {
   "cell_type": "code",
   "execution_count": 1,
   "id": "03bcf724",
   "metadata": {},
   "outputs": [],
   "source": [
    "import re\n",
    "import requests\n",
    "import pandas as pd\n",
    "from bs4 import BeautifulSoup\n",
    "from urllib.request import urlopen"
   ]
  },
  {
   "cell_type": "code",
   "execution_count": 2,
   "id": "8df4980c",
   "metadata": {},
   "outputs": [],
   "source": [
    "#amazon_base_url = \"https://www.amazon.in/s?k=\"\n",
    "flipkart_base_url = \"https://www.flipkart.com/search?q=\""
   ]
  },
  {
   "cell_type": "code",
   "execution_count": 5,
   "id": "cd394aa0",
   "metadata": {},
   "outputs": [],
   "source": [
    "headers = {'User-Agent': 'Mozilla/5.0 (Windows NT 10.0; Win64; x64) AppleWebKit/537.36 (KHTML, like Gecko) Chrome/89.0.4389.82 Safari/537.36'}"
   ]
  },
  {
   "cell_type": "code",
   "execution_count": 6,
   "id": "e79df3ac",
   "metadata": {},
   "outputs": [
    {
     "name": "stdout",
     "output_type": "stream",
     "text": [
      "Enter what you find:Redmi8\n"
     ]
    }
   ],
   "source": [
    "keyword = input(\"Enter what you find:\")"
   ]
  },
  {
   "cell_type": "code",
   "execution_count": 7,
   "id": "a69b16f7",
   "metadata": {},
   "outputs": [],
   "source": [
    "flipkart_url = urlopen(\"https://www.flipkart.com/search?q=\"+keyword)\n",
    "#amazon_url = urlopen(\"https://www.amazon.in/s?k=\"+keyword)"
   ]
  },
  {
   "cell_type": "code",
   "execution_count": 8,
   "id": "93c1ba3b",
   "metadata": {},
   "outputs": [],
   "source": [
    "flipkart_reader = BeautifulSoup(flipkart_url, 'html.parser')\n",
    "flipkart_product_name = flipkart_reader.findAll(\"div\", {'class':'_4rR01T'})\n",
    "flipkart_product_price = flipkart_reader.findAll('div', {'class':'_30jeq3'})\n",
    "flipkart_product_image = flipkart_reader.findAll('img', {'class':'_396cs4'})"
   ]
  },
  {
   "cell_type": "code",
   "execution_count": 9,
   "id": "9c90b24e",
   "metadata": {},
   "outputs": [],
   "source": [
    "product_list = []\n",
    "price_list = []\n",
    "image_link = []\n",
    "for name, price, link in zip(flipkart_product_name, flipkart_product_price, flipkart_product_image):\n",
    "    if \"Redmi 8\" in name.get_text():\n",
    "        product_list.append(name.get_text())\n",
    "        price_list.append(int(re.sub('[₹,]', '', price.get_text())))\n",
    "        image_link.append(link.attrs['src'])"
   ]
  },
  {
   "cell_type": "code",
   "execution_count": 10,
   "id": "896fe7ff",
   "metadata": {},
   "outputs": [],
   "source": [
    "flipkart_products_df = pd.DataFrame(data={'Name':product_list,'Price':price_list, 'links':image_link})"
   ]
  },
  {
   "cell_type": "code",
   "execution_count": 11,
   "id": "2364ed08",
   "metadata": {},
   "outputs": [
    {
     "data": {
      "text/plain": [
       "'https://rukminim1.flixcart.com/image/312/312/k1fbmvk0/mobile/9/e/m/mi-redmi-8-mzb8252in-original-imafhyacczv2h27n.jpeg?q=70'"
      ]
     },
     "execution_count": 11,
     "metadata": {},
     "output_type": "execute_result"
    }
   ],
   "source": [
    "flipkart_products_df.iloc[0,2]"
   ]
  },
  {
   "cell_type": "code",
   "execution_count": null,
   "id": "f9bcd78a",
   "metadata": {},
   "outputs": [],
   "source": []
  },
  {
   "cell_type": "code",
   "execution_count": null,
   "id": "b2f0a2b3",
   "metadata": {},
   "outputs": [],
   "source": [
    "amazon_reader = BeautifulSoup(amazon_url, 'html.parser')\n",
    "amazon_product_name = amazon_reader.findAll('span', {'class':'a-text-normal'})\n",
    "amazon_product_price = amazon_reader.findAll('span', {'class':'a-price-whole'})"
   ]
  },
  {
   "cell_type": "code",
   "execution_count": null,
   "id": "ead68af9",
   "metadata": {},
   "outputs": [],
   "source": [
    "amazon_product_list = []\n",
    "amazon_price_list = []\n",
    "for name, price in zip(amazon_product_name, amazon_product_price):\n",
    "    if \"Redmi 8\" in name.get_text():\n",
    "        amazon_product_list.append(name.get_text())\n",
    "        amazon_price_list.append(price.get_text())"
   ]
  },
  {
   "cell_type": "code",
   "execution_count": null,
   "id": "c3563193",
   "metadata": {},
   "outputs": [],
   "source": [
    "amazon_details_df = pd.DataFrame(data={'Name':amazon_product_list,'Price':amazon_price_list})"
   ]
  },
  {
   "cell_type": "code",
   "execution_count": null,
   "id": "10987fcf",
   "metadata": {},
   "outputs": [],
   "source": [
    "amazon_details_df"
   ]
  },
  {
   "cell_type": "code",
   "execution_count": null,
   "id": "b36657a8",
   "metadata": {},
   "outputs": [],
   "source": [
    "sorted_amazon_df = amazon_details_df.sort_values('Price', ascending=False)"
   ]
  },
  {
   "cell_type": "code",
   "execution_count": null,
   "id": "cbd61ba9",
   "metadata": {},
   "outputs": [],
   "source": [
    "sorted_df"
   ]
  },
  {
   "cell_type": "code",
   "execution_count": null,
   "id": "d4863f10",
   "metadata": {},
   "outputs": [],
   "source": [
    "sorted_flipkart_df = details_df.sort_values(by=['Price'])"
   ]
  },
  {
   "cell_type": "code",
   "execution_count": null,
   "id": "1627ad05",
   "metadata": {},
   "outputs": [],
   "source": [
    "sorted_flipkart_df"
   ]
  },
  {
   "cell_type": "code",
   "execution_count": 14,
   "id": "210f4429",
   "metadata": {},
   "outputs": [],
   "source": [
    "def fpt_product_df(keyword):\n",
    "    products_list = []\n",
    "    prices_list = []\n",
    "    images_list = []\n",
    "\n",
    "    fpt_url = urlopen(\"https://www.flipkart.com/search?q=\"+keyword)\n",
    "\n",
    "    fpt_reader = BeautifulSoup(fpt_url, 'html.parser')\n",
    "    \n",
    "    fpt_product_name = fpt_reader.findAll(\"div\", {'class':'_4rR01T'})\n",
    "    fpt_product_price = fpt_reader.findAll('div', {'class':'_30jeq3'})\n",
    "    fpt_product_image = fpt_reader.findAll('img', {'class':'_396cs4'})\n",
    "\n",
    "    for name, price, link in zip(fpt_product_name, fpt_product_price, fpt_product_image):\n",
    "        if \"Redmi 8\" in name.get_text():\n",
    "            products_list.append(name.get_text())\n",
    "            prices_list.append(int(re.sub('[₹,]', '', price.get_text())))\n",
    "            images_list.append(link.attrs['src'])\n",
    "\n",
    "    fpt_products_df = pd.DataFrame(data={'Name':products_list,'Price':prices_list, 'links':images_list})\n",
    "\n",
    "    return fpt_products_df"
   ]
  },
  {
   "cell_type": "code",
   "execution_count": 16,
   "id": "ccdfaee0",
   "metadata": {},
   "outputs": [
    {
     "data": {
      "text/html": [
       "<div>\n",
       "<style scoped>\n",
       "    .dataframe tbody tr th:only-of-type {\n",
       "        vertical-align: middle;\n",
       "    }\n",
       "\n",
       "    .dataframe tbody tr th {\n",
       "        vertical-align: top;\n",
       "    }\n",
       "\n",
       "    .dataframe thead th {\n",
       "        text-align: right;\n",
       "    }\n",
       "</style>\n",
       "<table border=\"1\" class=\"dataframe\">\n",
       "  <thead>\n",
       "    <tr style=\"text-align: right;\">\n",
       "      <th></th>\n",
       "      <th>Name</th>\n",
       "      <th>Price</th>\n",
       "      <th>links</th>\n",
       "    </tr>\n",
       "  </thead>\n",
       "  <tbody>\n",
       "    <tr>\n",
       "      <th>0</th>\n",
       "      <td>Redmi 8 (Emerald Green, 64 GB)</td>\n",
       "      <td>10999</td>\n",
       "      <td>https://rukminim1.flixcart.com/image/312/312/k...</td>\n",
       "    </tr>\n",
       "    <tr>\n",
       "      <th>1</th>\n",
       "      <td>Redmi 8 (Sapphire Blue, 64 GB)</td>\n",
       "      <td>10749</td>\n",
       "      <td>https://rukminim1.flixcart.com/image/312/312/k...</td>\n",
       "    </tr>\n",
       "    <tr>\n",
       "      <th>2</th>\n",
       "      <td>Redmi 8 (Onyx Black, 64 GB)</td>\n",
       "      <td>10999</td>\n",
       "      <td>https://rukminim1.flixcart.com/image/312/312/k...</td>\n",
       "    </tr>\n",
       "    <tr>\n",
       "      <th>3</th>\n",
       "      <td>Redmi 8 (Ruby Red, 64 GB)</td>\n",
       "      <td>10999</td>\n",
       "      <td>https://rukminim1.flixcart.com/image/312/312/k...</td>\n",
       "    </tr>\n",
       "    <tr>\n",
       "      <th>4</th>\n",
       "      <td>Redmi 8A (Sunset Red, 32 GB)</td>\n",
       "      <td>7999</td>\n",
       "      <td>https://rukminim1.flixcart.com/image/312/312/k...</td>\n",
       "    </tr>\n",
       "    <tr>\n",
       "      <th>5</th>\n",
       "      <td>Redmi 8A (Ocean Blue, 32 GB)</td>\n",
       "      <td>7999</td>\n",
       "      <td>https://rukminim1.flixcart.com/image/312/312/k...</td>\n",
       "    </tr>\n",
       "    <tr>\n",
       "      <th>6</th>\n",
       "      <td>Redmi 8A (Midnight Black, 32 GB)</td>\n",
       "      <td>7999</td>\n",
       "      <td>https://rukminim1.flixcart.com/image/312/312/k...</td>\n",
       "    </tr>\n",
       "    <tr>\n",
       "      <th>7</th>\n",
       "      <td>Redmi 8A Dual (Midnight Grey, 64 GB)</td>\n",
       "      <td>9999</td>\n",
       "      <td>https://rukminim1.flixcart.com/image/312/312/k...</td>\n",
       "    </tr>\n",
       "    <tr>\n",
       "      <th>8</th>\n",
       "      <td>Redmi 8A Dual (Sky White, 32 GB)</td>\n",
       "      <td>8999</td>\n",
       "      <td>https://rukminim1.flixcart.com/image/312/312/k...</td>\n",
       "    </tr>\n",
       "    <tr>\n",
       "      <th>9</th>\n",
       "      <td>Redmi 8A Dual (Midnight Grey, 32 GB)</td>\n",
       "      <td>8999</td>\n",
       "      <td>https://rukminim1.flixcart.com/image/312/312/k...</td>\n",
       "    </tr>\n",
       "    <tr>\n",
       "      <th>10</th>\n",
       "      <td>Redmi 8A (Ocean Blue, 32 GB)</td>\n",
       "      <td>8999</td>\n",
       "      <td>https://rukminim1.flixcart.com/image/312/312/k...</td>\n",
       "    </tr>\n",
       "    <tr>\n",
       "      <th>11</th>\n",
       "      <td>Redmi 8A (Midnight Black, 32 GB)</td>\n",
       "      <td>8999</td>\n",
       "      <td>https://rukminim1.flixcart.com/image/312/312/k...</td>\n",
       "    </tr>\n",
       "    <tr>\n",
       "      <th>12</th>\n",
       "      <td>Redmi 8A (Sunset Red, 32 GB)</td>\n",
       "      <td>7990</td>\n",
       "      <td>https://rukminim1.flixcart.com/image/312/312/k...</td>\n",
       "    </tr>\n",
       "    <tr>\n",
       "      <th>13</th>\n",
       "      <td>Redmi 8A Dual (Sea Blue, 32 GB)</td>\n",
       "      <td>8999</td>\n",
       "      <td>https://rukminim1.flixcart.com/image/312/312/k...</td>\n",
       "    </tr>\n",
       "    <tr>\n",
       "      <th>14</th>\n",
       "      <td>Redmi 8A Dual (Sky White, 64 GB)</td>\n",
       "      <td>9999</td>\n",
       "      <td>https://rukminim1.flixcart.com/image/312/312/k...</td>\n",
       "    </tr>\n",
       "  </tbody>\n",
       "</table>\n",
       "</div>"
      ],
      "text/plain": [
       "                                    Name  Price  \\\n",
       "0         Redmi 8 (Emerald Green, 64 GB)  10999   \n",
       "1         Redmi 8 (Sapphire Blue, 64 GB)  10749   \n",
       "2            Redmi 8 (Onyx Black, 64 GB)  10999   \n",
       "3              Redmi 8 (Ruby Red, 64 GB)  10999   \n",
       "4           Redmi 8A (Sunset Red, 32 GB)   7999   \n",
       "5           Redmi 8A (Ocean Blue, 32 GB)   7999   \n",
       "6       Redmi 8A (Midnight Black, 32 GB)   7999   \n",
       "7   Redmi 8A Dual (Midnight Grey, 64 GB)   9999   \n",
       "8       Redmi 8A Dual (Sky White, 32 GB)   8999   \n",
       "9   Redmi 8A Dual (Midnight Grey, 32 GB)   8999   \n",
       "10          Redmi 8A (Ocean Blue, 32 GB)   8999   \n",
       "11      Redmi 8A (Midnight Black, 32 GB)   8999   \n",
       "12          Redmi 8A (Sunset Red, 32 GB)   7990   \n",
       "13       Redmi 8A Dual (Sea Blue, 32 GB)   8999   \n",
       "14      Redmi 8A Dual (Sky White, 64 GB)   9999   \n",
       "\n",
       "                                                links  \n",
       "0   https://rukminim1.flixcart.com/image/312/312/k...  \n",
       "1   https://rukminim1.flixcart.com/image/312/312/k...  \n",
       "2   https://rukminim1.flixcart.com/image/312/312/k...  \n",
       "3   https://rukminim1.flixcart.com/image/312/312/k...  \n",
       "4   https://rukminim1.flixcart.com/image/312/312/k...  \n",
       "5   https://rukminim1.flixcart.com/image/312/312/k...  \n",
       "6   https://rukminim1.flixcart.com/image/312/312/k...  \n",
       "7   https://rukminim1.flixcart.com/image/312/312/k...  \n",
       "8   https://rukminim1.flixcart.com/image/312/312/k...  \n",
       "9   https://rukminim1.flixcart.com/image/312/312/k...  \n",
       "10  https://rukminim1.flixcart.com/image/312/312/k...  \n",
       "11  https://rukminim1.flixcart.com/image/312/312/k...  \n",
       "12  https://rukminim1.flixcart.com/image/312/312/k...  \n",
       "13  https://rukminim1.flixcart.com/image/312/312/k...  \n",
       "14  https://rukminim1.flixcart.com/image/312/312/k...  "
      ]
     },
     "execution_count": 16,
     "metadata": {},
     "output_type": "execute_result"
    }
   ],
   "source": [
    "fpt_product_df(\"Redmi8\")"
   ]
  },
  {
   "cell_type": "code",
   "execution_count": null,
   "id": "1d3b53c5",
   "metadata": {},
   "outputs": [],
   "source": []
  }
 ],
 "metadata": {
  "kernelspec": {
   "display_name": "Python 3 (ipykernel)",
   "language": "python",
   "name": "python3"
  },
  "language_info": {
   "codemirror_mode": {
    "name": "ipython",
    "version": 3
   },
   "file_extension": ".py",
   "mimetype": "text/x-python",
   "name": "python",
   "nbconvert_exporter": "python",
   "pygments_lexer": "ipython3",
   "version": "3.9.13"
  }
 },
 "nbformat": 4,
 "nbformat_minor": 5
}
